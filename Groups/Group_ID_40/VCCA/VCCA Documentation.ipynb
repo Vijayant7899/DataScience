{
 "cells": [
  {
   "cell_type": "markdown",
   "metadata": {},
   "source": [
    "<h1>Parameters in VCCA:</h1>\n",
    "<ul>\n",
    "<li><b>x_view</b>- An array of multiple vectors of the same dimension(input_dim).</li>\n",
    "<li><b>y_view</b>- An array of multiple vectors of the same dimension(input_dim).</li>\n",
    "<li><b>epochs</b>- no of times whole training data has to be trained.</li>\n",
    "<li><b>ZDIMS</b>- Size of the reduced vector(z)(ZDIMS<=input_dim).</li>\n",
    "<li><b>input_dim</b>- dimensions of input vector.</li>\n",
    "</ul>\n",
    "<hr style=\"height:2px;border-width:0;color:gray;background-color:gray\">"
   ]
  },
  {
   "cell_type": "markdown",
   "metadata": {},
   "source": [
    "<h1>Methods:</h1>\n",
    "\n",
    "<ul>\n",
    "    \n",
    "<li><b>fit()</b>→ Takes in 2 argument vectors or array of vectors each of dimension(input_dim).</li>\n",
    "\n",
    "<li><b>transform() </b>→ Takes 2 input arguments(vectors which need to be transformed to bottleneck dimensions), returns 2 vectors of size ZDIMS(VCCA), ZDIMS+PDIMS(VCCA Private)</li>\n",
    "</ul>\n",
    "<hr style=\"height:2px;border-width:0;color:gray;background-color:gray\">\n"
   ]
  },
  {
   "cell_type": "code",
   "execution_count": null,
   "metadata": {},
   "outputs": [],
   "source": [
    "from vcca import VCCA\n",
    "import torch\n",
    "from torch.autograd import Variable\n"
   ]
  },
  {
   "cell_type": "code",
   "execution_count": null,
   "metadata": {},
   "outputs": [],
   "source": [
    "x_view = Variable(torch.randn(10000, 100))\n",
    "y_view = Variable(torch.randn(10000, 100))\n",
    "epochs=1\n",
    "vcca=VCCA(epochs,batch_size=120,ZDIMS=30,input_dim=100)\n",
    "vcca.fit(x_view,y_view)\n",
    "x,y=vcca.transform(x_view,y_view)\n",
    "print(x.shape,y.shape)"
   ]
  }
 ],
 "metadata": {
  "kernelspec": {
   "display_name": "Python 3",
   "language": "python",
   "name": "python3"
  }
 },
 "nbformat": 4,
 "nbformat_minor": 2
}
